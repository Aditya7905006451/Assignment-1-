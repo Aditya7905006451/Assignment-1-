{
 "cells": [
  {
   "cell_type": "markdown",
   "id": "26936100",
   "metadata": {},
   "source": [
    "1. Create a JSON file (employee.json) containing employee information of minimum 5 employees. Each employee information consists of Name, DOB, Height, City, State. Write a python program that reads this information from the JSON file and saves the information into a list of objects of Employee class. Finally print the list of the Employee objects."
   ]
  },
  {
   "cell_type": "code",
   "execution_count": 64,
   "id": "a84ebdf5",
   "metadata": {},
   "outputs": [
    {
     "name": "stdout",
     "output_type": "stream",
     "text": [
      "{'Employeeinfo': [{'Name': 'Aditya', 'DOB': '16-7-1998', 'Height': '170 cm', 'City': 'Lucknow', 'State': 'UP'}, {'Name': 'Amit ', 'DOB': '29/8/1997', 'Height': '165 cm', 'City': 'Sitapur', 'State': 'UP'}, {'Name': 'Prabhakr', 'DOB': '17/5/1992', 'Height': '173 cm', 'City': 'Allahabad', 'State': 'UP'}, {'Name': 'Rohit', 'DOB': '11/11/1998', 'Height': '172 cm', 'City': 'Gorakhpur', 'State': 'UP'}, {'Name': 'Anshul', 'DOB': '14/12/1998', 'Height': '175 cm', 'City': 'Ghaziabad', 'State': 'UP'}]}\n"
     ]
    }
   ],
   "source": [
    "import json\n",
    "\n",
    "x={\n",
    "    \"Employeeinfo\": [\n",
    "                {\n",
    "                    \"Name\": \"Aditya\",\n",
    "                    \"DOB\" : \"16-7-1998\",\n",
    "                    \"Height\":\"170 cm\",\n",
    "                    \"City\":\"Lucknow\",\n",
    "                    \"State\":\"UP\",\n",
    "                },\n",
    "                {\n",
    "                    \"Name\":\"Amit \",\n",
    "                    \"DOB\": \"29/8/1997\",\n",
    "                    \"Height\":\"165 cm\",\n",
    "                    \"City\":\"Sitapur\",\n",
    "                    \"State\":\"UP\",\n",
    "                },\n",
    "                {\n",
    "                    \"Name\":\"Prabhakr\",\n",
    "                    \"DOB\": \"17/5/1992\",\n",
    "                    \"Height\":\"173 cm\",\n",
    "                    \"City\":\"Allahabad\",\n",
    "                    \"State\":\"UP\",\n",
    "                },\n",
    "                {\n",
    "                    \"Name\":\"Rohit\",\n",
    "                    \"DOB\": \"11/11/1998\",\n",
    "                    \"Height\":\"172 cm\",\n",
    "                    \"City\":\"Gorakhpur\",\n",
    "                    \"State\":\"UP\",\n",
    "                },\n",
    "                {\n",
    "                    \"Name\":\"Anshul\",\n",
    "                    \"DOB\": \"14/12/1998\",\n",
    "                    \"Height\":\"175 cm\",\n",
    "                    \"City\":\"Ghaziabad\",\n",
    "                    \"State\":\"UP\",\n",
    "                }\n",
    "]\n",
    "}\n",
    "with open (\"Employee.json\",\"w\") as f:\n",
    "     json.dump(x,f,indent=100)\n",
    "with open (\"Employee.json\",\"r\") as f: \n",
    "    x=json.load(f)\n",
    "    print(x,)"
   ]
  },
  {
   "cell_type": "markdown",
   "id": "e3172847",
   "metadata": {},
   "source": [
    "# 👉 2. Create a dictionary of any 7 Indian states and their capitals. Write this into a JSON file."
   ]
  },
  {
   "cell_type": "code",
   "execution_count": 76,
   "id": "cd55e3de",
   "metadata": {},
   "outputs": [
    {
     "name": "stdout",
     "output_type": "stream",
     "text": [
      "Enter the number of states:2\n",
      "Enter the State :up\n",
      "Enter the Capital regarding to state:lko\n",
      "Enter the State :punjab\n",
      "Enter the Capital regarding to state:Amritsar\n",
      "{'up': 'lko', 'punjab': 'Amritsar'}\n"
     ]
    }
   ],
   "source": [
    "import json\n",
    "States={}\n",
    "n=int(input(\"Enter the number of states:\"))\n",
    "for i in range (n):\n",
    "    State=input(\"Enter the State :\")\n",
    "    Capital=input(\"Enter the Capital regarding to state:\")\n",
    "    States[State]=Capital\n",
    "x=States\n",
    "with open(\"States.json\",\"w\") as f:\n",
    "    json.dump(x,f,indent=10)\n",
    "with open (\"States.json\",\"r\") as f: \n",
    "    x=json.load(f)\n",
    "    print(x)"
   ]
  },
  {
   "cell_type": "markdown",
   "id": "0315e855",
   "metadata": {},
   "source": [
    "# Create a class named ‘Dog’. It should have a constructor which accepts its name, age and coat color. You must perform the following operations\n",
    "🔴 a. It should have a function ‘description()’ which prints the name and age of the dog.\n",
    "🔴 b. It should have a function ‘get_info()’ which prints the coat color of the dog.\n",
    "🔴 c. Create child classes ‘JackRussellTerrier’ and ‘Bulldog’ which is inherited from the class ‘Dog’. It should have at least two methods of its own.\n",
    "🔴 d. Create objects and implement the above functionalities."
   ]
  },
  {
   "cell_type": "code",
   "execution_count": 74,
   "id": "7e9efa46",
   "metadata": {},
   "outputs": [
    {
     "name": "stdout",
     "output_type": "stream",
     "text": [
      "chiken\n"
     ]
    },
    {
     "ename": "AttributeError",
     "evalue": "'Bulldog' object has no attribute 'Purachasing_year'",
     "output_type": "error",
     "traceback": [
      "\u001b[1;31m---------------------------------------------------------------------------\u001b[0m",
      "\u001b[1;31mAttributeError\u001b[0m                            Traceback (most recent call last)",
      "Cell \u001b[1;32mIn [74], line 28\u001b[0m\n\u001b[0;32m     26\u001b[0m \u001b[38;5;28mprint\u001b[39m(T1\u001b[38;5;241m.\u001b[39mfood)\n\u001b[0;32m     27\u001b[0m Roxy\u001b[38;5;241m=\u001b[39mBulldog(\u001b[38;5;124m\"\u001b[39m\u001b[38;5;124mroxy\u001b[39m\u001b[38;5;124m\"\u001b[39m,\u001b[38;5;241m8\u001b[39m,\u001b[38;5;124m\"\u001b[39m\u001b[38;5;124mwhite\u001b[39m\u001b[38;5;124m\"\u001b[39m,\u001b[38;5;241m2015\u001b[39m)\n\u001b[1;32m---> 28\u001b[0m \u001b[38;5;28mprint\u001b[39m(\u001b[43mRoxy\u001b[49m\u001b[38;5;241;43m.\u001b[39;49m\u001b[43mWelcome\u001b[49m\u001b[43m(\u001b[49m\u001b[38;5;241;43m2015\u001b[39;49m\u001b[43m)\u001b[49m)\n\u001b[0;32m     29\u001b[0m T1\u001b[38;5;241m.\u001b[39mgetinfo(\u001b[38;5;124m\"\u001b[39m\u001b[38;5;124mcoat_color\u001b[39m\u001b[38;5;124m\"\u001b[39m)\n\u001b[0;32m     30\u001b[0m \u001b[38;5;66;03m# x=Dog(\"Baghera\",10,\"black\")\u001b[39;00m\n\u001b[0;32m     31\u001b[0m \u001b[38;5;66;03m# print(x.description(\"baghera\",\"10\"))\u001b[39;00m\n\u001b[0;32m     32\u001b[0m \u001b[38;5;66;03m# print(x.getinfo(x))\u001b[39;00m\n\u001b[0;32m     33\u001b[0m \u001b[38;5;66;03m# x.JackRussellTerrer.food(\"Chiken\")\u001b[39;00m\n",
      "Cell \u001b[1;32mIn [74], line 22\u001b[0m, in \u001b[0;36mBulldog.Welcome\u001b[1;34m(self, Purachasing_year)\u001b[0m\n\u001b[0;32m     21\u001b[0m \u001b[38;5;28;01mdef\u001b[39;00m \u001b[38;5;21mWelcome\u001b[39m(\u001b[38;5;28mself\u001b[39m,Purachasing_year):\n\u001b[1;32m---> 22\u001b[0m     \u001b[38;5;28;01mreturn\u001b[39;00m (\u001b[38;5;124m\"\u001b[39m\u001b[38;5;124mPurchasing year:\u001b[39m\u001b[38;5;124m\"\u001b[39m,\u001b[38;5;28;43mself\u001b[39;49m\u001b[38;5;241;43m.\u001b[39;49m\u001b[43mPurachasing_year\u001b[49m)\n",
      "\u001b[1;31mAttributeError\u001b[0m: 'Bulldog' object has no attribute 'Purachasing_year'"
     ]
    }
   ],
   "source": [
    "class Dog:\n",
    "    def __init__(self,name,age,coat_color):\n",
    "        self.name=name\n",
    "        self.age=age\n",
    "        self.coat_color=coat_color\n",
    "    def description(self,name,age):\n",
    "        return(\"dog name is \" + self.name + \" Dog age is \", self.age)\n",
    "    def getinfo(self,coat_color):\n",
    "        return (\"The coat color of the Dog :\",self.coat_color)\n",
    "\n",
    "class JackRussellTerrer(Dog):\n",
    "    def __init__(self,name,age,food):\n",
    "        super().__init__(name,age,food)\n",
    "        self.food=food\n",
    "    def food(self,food):\n",
    "        return (self.food)\n",
    "class Bulldog(Dog):\n",
    "    def __init__(self,name,age,coat_color,Purachasing_year):\n",
    "        super().__init__(name,age,coat_color)\n",
    "        self.Purchasing_year=Purachasing_year\n",
    "    def Welcome(self,Purachasing_year):\n",
    "        return (\"Purchasing year:\",self.Purachasing_year)\n",
    "    \n",
    "    \n",
    "T1=JackRussellTerrer(\"bhaghera\",10,\"chiken\")\n",
    "print(T1.food)\n",
    "Roxy=Bulldog(\"roxy\",8,\"white\",2015)\n",
    "print(Roxy.Welcome(2015))\n",
    "T1.getinfo(\"coat_color\")\n",
    "\n",
    "\n",
    "        \n",
    "        "
   ]
  },
  {
   "cell_type": "code",
   "execution_count": null,
   "id": "6d0ecf6f",
   "metadata": {},
   "outputs": [],
   "source": []
  },
  {
   "cell_type": "code",
   "execution_count": null,
   "id": "4768efca",
   "metadata": {},
   "outputs": [],
   "source": []
  },
  {
   "cell_type": "code",
   "execution_count": null,
   "id": "4b94ddc8",
   "metadata": {},
   "outputs": [],
   "source": []
  }
 ],
 "metadata": {
  "kernelspec": {
   "display_name": "vertual1kernal",
   "language": "python",
   "name": "vertual1kernal"
  },
  "language_info": {
   "codemirror_mode": {
    "name": "ipython",
    "version": 3
   },
   "file_extension": ".py",
   "mimetype": "text/x-python",
   "name": "python",
   "nbconvert_exporter": "python",
   "pygments_lexer": "ipython3",
   "version": "3.10.8"
  }
 },
 "nbformat": 4,
 "nbformat_minor": 5
}
