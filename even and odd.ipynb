{
 "cells": [
  {
   "cell_type": "code",
   "execution_count": 17,
   "id": "8dad5717",
   "metadata": {},
   "outputs": [
    {
     "name": "stdout",
     "output_type": "stream",
     "text": [
      "Please enter the Total Number of List Elements: 5\n",
      "Please enter the Value of 1 Element : 1\n",
      "Please enter the Value of 2 Element : 2\n",
      "Please enter the Value of 3 Element : 3\n",
      "Please enter the Value of 4 Element : 4\n",
      "Please enter the Value of 5 Element : 5\n",
      "0\n",
      "0\n",
      "Total Number of Even Numbers in this List =   2\n",
      "Total Number of Odd Numbers in this List =  3\n"
     ]
    }
   ],
   "source": [
    "#user input\n",
    "NumList = []\n",
    "Even_count = 0\n",
    "Odd_count = 0\n",
    "\n",
    "x = int(input(\"Please enter the Total Number of List Elements: \"))\n",
    "for i in range(1, x + 1):\n",
    "    value = int(input(\"Please enter the Value of %d Element : \" %i))\n",
    "    NumList.append(value)\n",
    "\n",
    "for j in range(x):\n",
    "    if(NumList[j] % 2 == 0):\n",
    "        Even_count = Even_count + 1\n",
    "    else:\n",
    "        Odd_count = Odd_count + 1\n",
    "\n",
    "print(\"Total Number of Even Numbers in this List =  \", Even_count)\n",
    "print(\"Total Number of Odd Numbers in this List = \", Odd_count)"
   ]
  },
  {
   "cell_type": "code",
   "execution_count": 20,
   "id": "8a447887",
   "metadata": {},
   "outputs": [
    {
     "name": "stdout",
     "output_type": "stream",
     "text": [
      "enter the number(1,2,3,4,5)\n",
      "Even :  2\n",
      "Odd :  3\n"
     ]
    }
   ],
   "source": [
    "x=eval(input(\"enter the number\"))\n",
    "\n",
    "even=0\n",
    "odd= 0\n",
    "\n",
    "for i in x:\n",
    "\n",
    "    if i % 2 == 0: \n",
    "\n",
    "        even += 1\n",
    "\n",
    "    else: \n",
    "\n",
    "        odd+= 1          \n",
    "\n",
    "print(\"Even : \", even) \n",
    "\n",
    "print(\"Odd : \", odd)"
   ]
  },
  {
   "cell_type": "code",
   "execution_count": null,
   "id": "ee54e71e",
   "metadata": {},
   "outputs": [],
   "source": []
  }
 ],
 "metadata": {
  "kernelspec": {
   "display_name": "Python 3 (ipykernel)",
   "language": "python",
   "name": "python3"
  },
  "language_info": {
   "codemirror_mode": {
    "name": "ipython",
    "version": 3
   },
   "file_extension": ".py",
   "mimetype": "text/x-python",
   "name": "python",
   "nbconvert_exporter": "python",
   "pygments_lexer": "ipython3",
   "version": "3.9.12"
  }
 },
 "nbformat": 4,
 "nbformat_minor": 5
}
