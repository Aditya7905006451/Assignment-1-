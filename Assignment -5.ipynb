{
 "cells": [
  {
   "cell_type": "markdown",
   "id": "e65c58b6",
   "metadata": {},
   "source": [
    "# first Question"
   ]
  },
  {
   "cell_type": "code",
   "execution_count": 67,
   "id": "963b559c",
   "metadata": {},
   "outputs": [
    {
     "name": "stdout",
     "output_type": "stream",
     "text": [
      "5\n",
      "6\n",
      "9\n",
      "142\n"
     ]
    }
   ],
   "source": [
    "class point:\n",
    "    x=int(input(\"\"))\n",
    "    y=int(input(\"\"))\n",
    "    z=int(input(\"\"))\n",
    "    def Suare(self,x,y,z):\n",
    "        self.x=x\n",
    "        self.y=y\n",
    "        self.z=z\n",
    "    def Sque(self):\n",
    "        return self.x**2+self.y**2+self.z**2\n",
    "c=point()\n",
    "print(c.Sque())\n",
    "    "
   ]
  },
  {
   "cell_type": "markdown",
   "id": "fce68edb",
   "metadata": {},
   "source": [
    "# second Question"
   ]
  },
  {
   "cell_type": "code",
   "execution_count": 90,
   "id": "d10adede",
   "metadata": {},
   "outputs": [
    {
     "name": "stdout",
     "output_type": "stream",
     "text": [
      "8\n",
      "4\n",
      "12\n",
      "3.0\n"
     ]
    }
   ],
   "source": [
    "class Calculator:\n",
    "    def __init__(self,num1,num2):\n",
    "        self.num1=num1\n",
    "        self.num2=num2\n",
    "    def add(self):\n",
    "        return self.num1  + self.num2\n",
    "    def subtract(self):\n",
    "        return (abs(self.num1  - self.num2))\n",
    "    def multiply(self):\n",
    "        return self.num1  * self.num2\n",
    "    def divide(self):\n",
    "        return self.num1  / self.num2\n",
    "obj =Calculator(6, 2)\n",
    "print(obj.add())\n",
    "print(obj.subtract())\n",
    "print(obj.multiply())\n",
    "print(obj.divide())\n"
   ]
  },
  {
   "cell_type": "markdown",
   "id": "9b9cea58",
   "metadata": {},
   "source": [
    "## Third Question"
   ]
  },
  {
   "cell_type": "code",
   "execution_count": 137,
   "id": "4bf1c4ab",
   "metadata": {},
   "outputs": [
    {
     "ename": "TypeError",
     "evalue": "Student.__init__() missing 2 required positional arguments: 'name' and 'Rollnumber'",
     "output_type": "error",
     "traceback": [
      "\u001b[1;31m---------------------------------------------------------------------------\u001b[0m",
      "\u001b[1;31mTypeError\u001b[0m                                 Traceback (most recent call last)",
      "Cell \u001b[1;32mIn [137], line 14\u001b[0m\n\u001b[0;32m     12\u001b[0m         \u001b[38;5;28mself\u001b[39m\u001b[38;5;241m.\u001b[39m__name\u001b[38;5;241m=\u001b[39mname\n\u001b[0;32m     13\u001b[0m         \u001b[38;5;28mself\u001b[39m\u001b[38;5;241m.\u001b[39m__Roll_number\u001b[38;5;241m=\u001b[39mRoll_number\n\u001b[1;32m---> 14\u001b[0m std\u001b[38;5;241m=\u001b[39m\u001b[43mStudent\u001b[49m\u001b[43m(\u001b[49m\u001b[43m)\u001b[49m\n\u001b[0;32m     15\u001b[0m \u001b[38;5;28mprint\u001b[39m(std\u001b[38;5;241m.\u001b[39mgetName())\n\u001b[0;32m     16\u001b[0m \u001b[38;5;28mprint\u001b[39m(std\u001b[38;5;241m.\u001b[39msetName(name))\n",
      "\u001b[1;31mTypeError\u001b[0m: Student.__init__() missing 2 required positional arguments: 'name' and 'Rollnumber'"
     ]
    }
   ],
   "source": [
    "class Student:\n",
    "    __name=\"Aditya Pathak\"\n",
    "    __Roll_number=\"2100270140003\"\n",
    "    def __init__(self,name,Rollnumber):\n",
    "        self.__name=name\n",
    "        self.__Roll_number=Rollnumber\n",
    "    def getName(self,):\n",
    "        print(\"Getter method is called\")\n",
    "        return self.name\n",
    "        return self.Roll_number\n",
    "    def setName(self,name):\n",
    "        self.__name=name\n",
    "        self.__Roll_number=Roll_number\n",
    "std=Student()\n",
    "print(std.getName())\n",
    "print(std.setName(name))"
   ]
  },
  {
   "cell_type": "code",
   "execution_count": 135,
   "id": "0fff2ddb",
   "metadata": {},
   "outputs": [
    {
     "ename": "NameError",
     "evalue": "name 'name' is not defined",
     "output_type": "error",
     "traceback": [
      "\u001b[1;31m---------------------------------------------------------------------------\u001b[0m",
      "\u001b[1;31mNameError\u001b[0m                                 Traceback (most recent call last)",
      "Cell \u001b[1;32mIn [135], line 17\u001b[0m\n\u001b[0;32m     12\u001b[0m \u001b[38;5;66;03m#     def setRollNumber(self):\u001b[39;00m\n\u001b[0;32m     13\u001b[0m \u001b[38;5;66;03m#         pass\u001b[39;00m\n\u001b[0;32m     14\u001b[0m \u001b[38;5;66;03m#     def getRollNumber(self):\u001b[39;00m\n\u001b[0;32m     15\u001b[0m \u001b[38;5;66;03m#         pass\u001b[39;00m\n\u001b[0;32m     16\u001b[0m std\u001b[38;5;241m=\u001b[39mStudent(\u001b[38;5;124m\"\u001b[39m\u001b[38;5;124mAditya\u001b[39m\u001b[38;5;124m\"\u001b[39m)\n\u001b[1;32m---> 17\u001b[0m std\u001b[38;5;241m.\u001b[39msetName(\u001b[43mname\u001b[49m)\n\u001b[0;32m     18\u001b[0m std\u001b[38;5;241m.\u001b[39mgetName()\n",
      "\u001b[1;31mNameError\u001b[0m: name 'name' is not defined"
     ]
    }
   ],
   "source": [
    "class Student:\n",
    "    __name=\"Aditya Pathak\"\n",
    " #   __Roll_number=\"2100270140003\"\n",
    "    def __init__(self,name):\n",
    "        self.__name=name\n",
    "       # self.__Roll_number=Rollnumber\n",
    "    def getName(self):\n",
    "        print(\"Getter method is called\")\n",
    "        return self.__name\n",
    "    def setName(self,name):\n",
    "        self.__name=name\n",
    "#     def setRollNumber(self):\n",
    "#         pass\n",
    "#     def getRollNumber(self):\n",
    "#         pass\n",
    "std=Student(\"Aditya\")\n",
    "std.setName(name)\n",
    "std.getName()"
   ]
  },
  {
   "cell_type": "markdown",
   "id": "a8ca410c",
   "metadata": {},
   "source": [
    "# fourth Question"
   ]
  },
  {
   "cell_type": "code",
   "execution_count": 138,
   "id": "0684d52d",
   "metadata": {},
   "outputs": [
    {
     "name": "stdout",
     "output_type": "stream",
     "text": [
      "Account owner:   Aditya\n",
      "Account balance: $2000\n",
      "Aditya\n",
      "Deposit Accepted\n",
      "None\n",
      "2050\n",
      "None\n",
      "2000\n"
     ]
    }
   ],
   "source": [
    "class Account:\n",
    "    def __init__(self,owner,balance=0,intrestRate=5):\n",
    "        self.owner = owner\n",
    "        self.balance = balance\n",
    "    def __str__(self):\n",
    "        return f'Account owner:   {self.owner}\\nAccount balance: ${self.balance}'\n",
    "        \n",
    "    def deposit(self,dep_amt):\n",
    "        self.balance += dep_amt\n",
    "        print('Deposit Accepted')\n",
    "        \n",
    "    def withdraw(self,wd_amt):\n",
    "        if self.balance >= wd_amt:\n",
    "            self.balance -= wd_amt\n",
    "\n",
    "        \n",
    "acct1 = Account('Aditya',2000)\n",
    "print(acct1)\n",
    "print(acct1.owner)\n",
    "print(acct1.deposit(50))\n",
    "print(acct1.balance)\n",
    "print(acct1.withdraw(50))\n",
    "print(acct1.balance)"
   ]
  },
  {
   "cell_type": "markdown",
   "id": "308fe1e8",
   "metadata": {},
   "source": [
    "# 5: Handling a Bank Account"
   ]
  },
  {
   "cell_type": "code",
   "execution_count": 172,
   "id": "265786bc",
   "metadata": {},
   "outputs": [
    {
     "name": "stdout",
     "output_type": "stream",
     "text": [
      "Account Name:   Aditya\n",
      "Account balance: $2000\n",
      "Aditya\n",
      "Deposit Accepted\n",
      "None\n",
      "2050\n",
      "None\n",
      "1550\n",
      "100\n"
     ]
    }
   ],
   "source": [
    "class Account:\n",
    "    \n",
    "    def __init__(self, Name=None, balance=0):\n",
    "        self.Name = Name\n",
    "        self.balance = balance\n",
    "    def __str__(self):\n",
    "        return f'Account Name:   {self.Name}\\nAccount balance: ${self.balance}'\n",
    "    \n",
    "    def withdrawal(self,wd_amt):\n",
    "        if self.balance >= wd_amt:\n",
    "            self.balance -= wd_amt\n",
    "\n",
    "    def deposit(self, dep_amt):\n",
    "        self.balance += dep_amt\n",
    "        print('Deposit Accepted')\n",
    "class SavingsAccount(Account):\n",
    "    def __init__(self, title=None, balance=0, interestRate=0):\n",
    "            super().__init__(title, balance)\n",
    "            self.interestRate = interestRate\n",
    "    def interestAmount(self):\n",
    "        self.interestAmount =(self.interestRate*self.balance)//100\n",
    "        print(self.interestAmount)\n",
    "\n",
    "acct1 = Account('Aditya',2000)\n",
    "print(acct1)\n",
    "print(acct1.Name)\n",
    "print(acct1.deposit(50))\n",
    "print(acct1.balance)\n",
    "print(acct1.withdrawal(500))\n",
    "print(acct1.balance)\n",
    "acct2 = SavingsAccount(\"Aditya\", 2000, 5)\n",
    "acct2.interestAmount()"
   ]
  },
  {
   "cell_type": "code",
   "execution_count": null,
   "id": "d8236683",
   "metadata": {},
   "outputs": [],
   "source": []
  }
 ],
 "metadata": {
  "kernelspec": {
   "display_name": "vertual1kernal",
   "language": "python",
   "name": "vertual1kernal"
  },
  "language_info": {
   "codemirror_mode": {
    "name": "ipython",
    "version": 3
   },
   "file_extension": ".py",
   "mimetype": "text/x-python",
   "name": "python",
   "nbconvert_exporter": "python",
   "pygments_lexer": "ipython3",
   "version": "3.10.8"
  }
 },
 "nbformat": 4,
 "nbformat_minor": 5
}
