{
 "cells": [
  {
   "cell_type": "code",
   "execution_count": 13,
   "id": "8a937239",
   "metadata": {},
   "outputs": [
    {
     "name": "stdout",
     "output_type": "stream",
     "text": [
      "No. of elements :  5 \n",
      "list is:  [8, 2, 3, 0, 7]\n",
      "sum of elements is:  20\n"
     ]
    }
   ],
   "source": [
    "z= (8, 2, 3, 0, 7)\n",
    "n = list(z)\n",
    "print(\"No. of elements : \", len(z), \"\\nlist is: \", n)\n",
    "#print(n)\n",
    "def sum_all(a):\n",
    "    sum_a1=0\n",
    "    for i in z: \n",
    "        sum_a1+=i\n",
    "    return sum_a1\n",
    "print(\"sum of elements is: \", sum_all(z))"
   ]
  },
  {
   "cell_type": "code",
   "execution_count": 11,
   "id": "65228fb6",
   "metadata": {},
   "outputs": [
    {
     "name": "stdout",
     "output_type": "stream",
     "text": [
      "enter the string to reverse: ADITYA79050\n",
      "original string:  ADITYA79050\n",
      "reverse string is: 05097AYTIDA\n"
     ]
    }
   ],
   "source": [
    "x=str(input(\"enter the string to reverse: \"))\n",
    "print(\"original string: \",x)\n",
    "#z=str(x)\n",
    "def rev_str():\n",
    "    for i in x:\n",
    "        rev=(x[::-1])\n",
    "    return rev\n",
    "#rev_str(x)\n",
    "print(\"reverse string is:\", rev_str())"
   ]
  },
  {
   "cell_type": "code",
   "execution_count": 17,
   "id": "ceac2224",
   "metadata": {},
   "outputs": [
    {
     "name": "stdout",
     "output_type": "stream",
     "text": [
      "Enter the string: Aditya pathak\n",
      "('No.of Upper case characters: ', 1, 'No. of Lower case Characters', 11)\n"
     ]
    }
   ],
   "source": [
    "def test_uplow(s):\n",
    "    Upper_case = 0\n",
    "    Lower_case = 0\n",
    "    for c in s:\n",
    "        if c.isupper():\n",
    "           Upper_case +=1\n",
    "        elif c.islower():\n",
    "           Lower_case +=1\n",
    "        else:\n",
    "           pass\n",
    "    return \"No.of Upper case characters: \", Upper_case,\"No. of Lower case Characters\", Lower_case\n",
    "a=str(input(\"Enter the string: \"))\n",
    "print(test_uplow(a))"
   ]
  },
  {
   "cell_type": "code",
   "execution_count": null,
   "id": "df5885ac",
   "metadata": {},
   "outputs": [],
   "source": []
  }
 ],
 "metadata": {
  "kernelspec": {
   "display_name": "Python 3 (ipykernel)",
   "language": "python",
   "name": "python3"
  },
  "language_info": {
   "codemirror_mode": {
    "name": "ipython",
    "version": 3
   },
   "file_extension": ".py",
   "mimetype": "text/x-python",
   "name": "python",
   "nbconvert_exporter": "python",
   "pygments_lexer": "ipython3",
   "version": "3.9.12"
  }
 },
 "nbformat": 4,
 "nbformat_minor": 5
}
